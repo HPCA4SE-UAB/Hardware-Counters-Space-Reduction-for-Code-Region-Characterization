{
 "cells": [
  {
   "cell_type": "markdown",
   "metadata": {},
   "source": [
    "# Using a Neural Networkt recognize execution patterns using hardware performance counters"
   ]
  },
  {
   "cell_type": "markdown",
   "metadata": {},
   "source": [
    "Load libraries and dataset"
   ]
  },
  {
   "cell_type": "code",
   "execution_count": 1,
   "metadata": {},
   "outputs": [
    {
     "name": "stderr",
     "output_type": "stream",
     "text": [
      "Using TensorFlow backend.\n"
     ]
    }
   ],
   "source": [
    "import numpy as np\n",
    "import pandas as pd\n",
    "import matplotlib.pyplot as plt\n",
    "import os\n",
    "from keras.utils import to_categorical\n",
    "import seaborn as sns\n",
    "dataset = pd.read_csv('data.csv',sep=';')"
   ]
  },
  {
   "cell_type": "markdown",
   "metadata": {},
   "source": [
    "Shuffle data, necessary to mix the rows in the dataset in order to have training and testing data with all the cases.\n",
    "If the data is not shuffled, the cur for the test7train pair will be done at exacty the x-th position in the dataset."
   ]
  },
  {
   "cell_type": "code",
   "execution_count": 2,
   "metadata": {},
   "outputs": [],
   "source": [
    "from sklearn.utils import shuffle\n",
    "dataset = shuffle(dataset)"
   ]
  },
  {
   "cell_type": "markdown",
   "metadata": {},
   "source": [
    "Creating the dataset which will be used in the training step.\n",
    "Two sizes are removed in order to test if unseen data can be used to identify the patterns."
   ]
  },
  {
   "cell_type": "code",
   "execution_count": 3,
   "metadata": {
    "scrolled": true
   },
   "outputs": [
    {
     "data": {
      "text/plain": [
       "[1000,\n",
       " 2000,\n",
       " 3000,\n",
       " 4000,\n",
       " 5000,\n",
       " 6000,\n",
       " 7000,\n",
       " 8000,\n",
       " 9000,\n",
       " 10000,\n",
       " 20000,\n",
       " 30000,\n",
       " 40000,\n",
       " 50000,\n",
       " 60000,\n",
       " 70000,\n",
       " 80000,\n",
       " 90000,\n",
       " 100000,\n",
       " 200000,\n",
       " 300000,\n",
       " 400000,\n",
       " 500000,\n",
       " 600000,\n",
       " 700000,\n",
       " 800000,\n",
       " 900000,\n",
       " 2000000,\n",
       " 3000000,\n",
       " 4000000,\n",
       " 5000000,\n",
       " 6000000,\n",
       " 7000000,\n",
       " 8000000,\n",
       " 9000000,\n",
       " 10000000,\n",
       " 20000000,\n",
       " 30000000,\n",
       " 40000000,\n",
       " 50000000,\n",
       " 60000000,\n",
       " 70000000,\n",
       " 80000000,\n",
       " 100000000,\n",
       " 110000000,\n",
       " 120000000,\n",
       " 130000000,\n",
       " 140000000,\n",
       " 150000000,\n",
       " 160000000,\n",
       " 170000000,\n",
       " 180000000,\n",
       " 190000000,\n",
       " 200000000]"
      ]
     },
     "execution_count": 3,
     "metadata": {},
     "output_type": "execute_result"
    }
   ],
   "source": [
    "dataset_train = dataset[dataset['size_vector'] != 90000000]\n",
    "dataset_train = dataset_train[dataset_train['size_vector'] != 1000000]\n",
    "sorted(dataset_train.size_vector.unique())\n"
   ]
  },
  {
   "cell_type": "markdown",
   "metadata": {},
   "source": [
    "Generate the dataset with the two sizes to predict"
   ]
  },
  {
   "cell_type": "code",
   "execution_count": 4,
   "metadata": {},
   "outputs": [
    {
     "data": {
      "text/plain": [
       "[1000000, 90000000]"
      ]
     },
     "execution_count": 4,
     "metadata": {},
     "output_type": "execute_result"
    }
   ],
   "source": [
    "dataset_pred = dataset[dataset['size_vector'] == 90000000]\n",
    "dataset_pred = dataset_pred.append(dataset[dataset['size_vector'] == 1000000])\n",
    "\n",
    "sorted(dataset_pred.size_vector.unique())"
   ]
  },
  {
   "cell_type": "markdown",
   "metadata": {},
   "source": [
    "Remove extra columns and hardware performance counters discarded with PCA"
   ]
  },
  {
   "cell_type": "code",
   "execution_count": 5,
   "metadata": {},
   "outputs": [],
   "source": [
    "def erase_from_dataset(dataset_in):\n",
    "    del dataset_in['id']\n",
    "    del dataset_in['size_vector']\n",
    "    del dataset_in['comp_opt']\n",
    "    del dataset_in['PAPI_BR_INS']\n",
    "    del dataset_in['PAPI_BR_NTK']\n",
    "    del dataset_in['PAPI_BR_PRC']\n",
    "    del dataset_in['PAPI_FP_INS']\n",
    "    del dataset_in['PAPI_L2_DCA']\n",
    "    del dataset_in['PAPI_L2_DCM']\n",
    "    del dataset_in['PAPI_L2_DCR']\n",
    "    del dataset_in['PAPI_L2_DCW']\n",
    "    del dataset_in['PAPI_L3_DCA']\n",
    "    del dataset_in['PAPI_L3_DCR']\n",
    "    del dataset_in['PAPI_L3_DCW']\n",
    "    del dataset_in['PAPI_L3_LDM']\n",
    "    del dataset_in['PAPI_LST_INS']\n",
    "    del dataset_in['PAPI_RES_STL']\n",
    "    del dataset_in['PAPI_TOT_CYC']\n",
    "    del dataset_in['PAPI_L1_ICA']\n",
    "    del dataset_in['PAPI_L1_ICH']\n",
    "    del dataset_in['PAPI_L1_ICM']\n",
    "    del dataset_in['PAPI_L1_ICR']\n",
    "    del dataset_in['PAPI_L1_TCM']\n",
    "    del dataset_in['PAPI_L2_ICA']\n",
    "    del dataset_in['PAPI_L2_ICH']\n",
    "    del dataset_in['PAPI_L2_ICM']\n",
    "    del dataset_in['PAPI_L2_ICR']\n",
    "    del dataset_in['PAPI_L2_TCA']\n",
    "    del dataset_in['PAPI_L2_TCH']\n",
    "    del dataset_in['PAPI_L2_TCM']\n",
    "    del dataset_in['PAPI_L2_TCR']\n",
    "    del dataset_in['PAPI_L2_TCW']\n",
    "    del dataset_in['PAPI_L3_ICA']\n",
    "    del dataset_in['PAPI_L3_ICR']\n",
    "    del dataset_in['PAPI_L3_TCA']\n",
    "    del dataset_in['PAPI_L3_TCR']\n",
    "    del dataset_in['PAPI_L3_TCW']\n",
    "    del dataset_in['PAPI_TLB_IM']\n",
    "    del dataset_in['PAPI_TLB_TL']\n",
    "    del dataset_in['PAPI_TOT_IIS']\n",
    "\n",
    "    dataset_in = dataset_in.reset_index(drop=True)\n",
    "    \n",
    "erase_from_dataset(dataset_train)\n",
    "erase_from_dataset(dataset_pred)"
   ]
  },
  {
   "cell_type": "markdown",
   "metadata": {},
   "source": [
    "Divide dataset hardware performance counters and labels"
   ]
  },
  {
   "cell_type": "code",
   "execution_count": 6,
   "metadata": {},
   "outputs": [],
   "source": [
    "X = dataset_train.iloc[:,1:21].values\n",
    "y = dataset_train.iloc[:,0].values"
   ]
  },
  {
   "cell_type": "markdown",
   "metadata": {},
   "source": [
    "Normalize data"
   ]
  },
  {
   "cell_type": "code",
   "execution_count": 7,
   "metadata": {},
   "outputs": [],
   "source": [
    "from sklearn.preprocessing import Normalizer\n",
    "scaler_x = Normalizer()\n",
    "scaler_x.fit(X)\n",
    "X_scaled =  scaler_x.transform(X)"
   ]
  },
  {
   "cell_type": "markdown",
   "metadata": {},
   "source": [
    "Encode labels in numeric categories"
   ]
  },
  {
   "cell_type": "code",
   "execution_count": 8,
   "metadata": {},
   "outputs": [],
   "source": [
    "from sklearn.preprocessing import LabelEncoder\n",
    "encoder =  LabelEncoder()\n",
    "y1 = encoder.fit_transform(y)\n",
    "Y = pd.get_dummies(y1).values"
   ]
  },
  {
   "cell_type": "markdown",
   "metadata": {},
   "source": [
    "Load keras NN libraries and create empty NN"
   ]
  },
  {
   "cell_type": "code",
   "execution_count": 9,
   "metadata": {},
   "outputs": [],
   "source": [
    "#Defining the model \n",
    "from keras.models import Sequential\n",
    "from keras.layers import Dense\n",
    "from keras.optimizers import Adam\n",
    "\n",
    "\n",
    "model = Sequential()"
   ]
  },
  {
   "cell_type": "markdown",
   "metadata": {},
   "source": [
    "Add input layer for the 20 hardware counters\n",
    "Add one hidden layer\n",
    "And one output layer\n",
    "Then compile the model"
   ]
  },
  {
   "cell_type": "code",
   "execution_count": 10,
   "metadata": {},
   "outputs": [
    {
     "name": "stdout",
     "output_type": "stream",
     "text": [
      "Model: \"sequential_1\"\n",
      "_________________________________________________________________\n",
      "Layer (type)                 Output Shape              Param #   \n",
      "=================================================================\n",
      "dense_1 (Dense)              (None, 10)                210       \n",
      "_________________________________________________________________\n",
      "dense_2 (Dense)              (None, 4)                 44        \n",
      "=================================================================\n",
      "Total params: 254\n",
      "Trainable params: 254\n",
      "Non-trainable params: 0\n",
      "_________________________________________________________________\n"
     ]
    }
   ],
   "source": [
    "model.add(Dense(10,input_shape=(20,),activation='tanh'))\n",
    "model.add(Dense(4,activation='softmax'))\n",
    "model.compile(Adam(lr=0.001),'categorical_crossentropy',metrics=['accuracy'])\n",
    "model.summary()"
   ]
  },
  {
   "cell_type": "markdown",
   "metadata": {},
   "source": [
    "Execute the neural network"
   ]
  },
  {
   "cell_type": "code",
   "execution_count": 11,
   "metadata": {
    "scrolled": false
   },
   "outputs": [
    {
     "name": "stdout",
     "output_type": "stream",
     "text": [
      "Train on 345600 samples, validate on 86400 samples\n",
      "Epoch 1/10\n",
      "345600/345600 [==============================] - 4s 10us/step - loss: 1.0538 - acc: 0.5603 - val_loss: 0.7534 - val_acc: 0.6221\n",
      "Epoch 2/10\n",
      "345600/345600 [==============================] - 3s 10us/step - loss: 0.5996 - acc: 0.8006 - val_loss: 0.4777 - val_acc: 0.8306\n",
      "Epoch 3/10\n",
      "345600/345600 [==============================] - 3s 10us/step - loss: 0.3979 - acc: 0.8884 - val_loss: 0.3344 - val_acc: 0.9138\n",
      "Epoch 4/10\n",
      "345600/345600 [==============================] - 3s 10us/step - loss: 0.2938 - acc: 0.9338 - val_loss: 0.2596 - val_acc: 0.9420\n",
      "Epoch 5/10\n",
      "345600/345600 [==============================] - 3s 10us/step - loss: 0.2329 - acc: 0.9520 - val_loss: 0.2093 - val_acc: 0.9497\n",
      "Epoch 6/10\n",
      "345600/345600 [==============================] - 3s 10us/step - loss: 0.1893 - acc: 0.9581 - val_loss: 0.1735 - val_acc: 0.9560\n",
      "Epoch 7/10\n",
      "345600/345600 [==============================] - 3s 10us/step - loss: 0.1571 - acc: 0.9612 - val_loss: 0.1453 - val_acc: 0.9640\n",
      "Epoch 8/10\n",
      "345600/345600 [==============================] - 4s 10us/step - loss: 0.1345 - acc: 0.9627 - val_loss: 0.1285 - val_acc: 0.9651\n",
      "Epoch 9/10\n",
      "345600/345600 [==============================] - 3s 10us/step - loss: 0.1181 - acc: 0.9648 - val_loss: 0.1105 - val_acc: 0.9643\n",
      "Epoch 10/10\n",
      "345600/345600 [==============================] - 3s 10us/step - loss: 0.1064 - acc: 0.9664 - val_loss: 0.0996 - val_acc: 0.9684\n"
     ]
    }
   ],
   "source": [
    "history = model.fit(X_scaled,Y,batch_size=100,epochs=10,shuffle=1,validation_split=0.20)"
   ]
  },
  {
   "cell_type": "markdown",
   "metadata": {},
   "source": [
    "See the evolution of the model"
   ]
  },
  {
   "cell_type": "code",
   "execution_count": 12,
   "metadata": {},
   "outputs": [
    {
     "data": {
      "image/png": "[encoded data removed]",
      "text/plain": [
       "<Figure size 432x288 with 1 Axes>"
      ]
     },
     "metadata": {
      "needs_background": "light"
     },
     "output_type": "display_data"
    }
   ],
   "source": [
    "plt.ylim(0.7,1)\n",
    "plt.plot(history.history['acc'])\n",
    "plt.plot(history.history['val_acc'])\n",
    "plt.title('model accuracy')\n",
    "plt.ylabel('accuracy')\n",
    "plt.xlabel('epoch')\n",
    "plt.legend(['train', 'test'], loc='upper left')\n",
    "plt.show()\n"
   ]
  },
  {
   "cell_type": "markdown",
   "metadata": {},
   "source": [
    "Divide dataset hardware performance counters and labels"
   ]
  },
  {
   "cell_type": "code",
   "execution_count": 13,
   "metadata": {},
   "outputs": [],
   "source": [
    "X_pred = dataset_pred.iloc[:,1:21].values\n",
    "y_pred = dataset_pred.iloc[:,0].values"
   ]
  },
  {
   "cell_type": "markdown",
   "metadata": {},
   "source": [
    "Normalize the data"
   ]
  },
  {
   "cell_type": "code",
   "execution_count": 14,
   "metadata": {},
   "outputs": [],
   "source": [
    "X_pred_scaled = scaler_x.fit_transform(X_pred)"
   ]
  },
  {
   "cell_type": "markdown",
   "metadata": {},
   "source": [
    "Use the network to predict the labels and transform the output to the pattern's labels"
   ]
  },
  {
   "cell_type": "code",
   "execution_count": 15,
   "metadata": {},
   "outputs": [],
   "source": [
    "predictions = model.predict_classes(X_pred_scaled)\n",
    "prediction_ = np.argmax(to_categorical(predictions), axis = 1)\n",
    "prediction_ = encoder.inverse_transform(prediction_)"
   ]
  },
  {
   "cell_type": "markdown",
   "metadata": {},
   "source": [
    "Check the % of correct and incorrect predictions"
   ]
  },
  {
   "cell_type": "code",
   "execution_count": 16,
   "metadata": {},
   "outputs": [
    {
     "name": "stdout",
     "output_type": "stream",
     "text": [
      "Correct predictions= 16000 (100.0%)\n",
      "Incorrect predictions= 0 (0.0%)\n"
     ]
    }
   ],
   "source": [
    "pred_correct=0\n",
    "pred_incorrect=0\n",
    "for i, j in zip(prediction_ , y_pred):\n",
    "    if (i==j):\n",
    "        pred_correct = pred_correct+1\n",
    "    else:\n",
    "        pred_incorrect = pred_incorrect+1\n",
    "    #print( \" the nn predict {}, and the pattern to find is {}. Success? {}\".format(i,j,i==j))\n",
    "    \n",
    "print(\"Correct predictions= {} ({}%)\".format(pred_correct,pred_correct*100/(pred_correct+pred_incorrect)))\n",
    "print(\"Incorrect predictions= {} ({}%)\".format(pred_incorrect,pred_incorrect*100/(pred_correct+pred_incorrect)))"
   ]
  }
 ],
 "metadata": {
  "kernelspec": {
   "display_name": "Python 3",
   "language": "python",
   "name": "python3"
  },
  "language_info": {
   "codemirror_mode": {
    "name": "ipython",
    "version": 3
   },
   "file_extension": ".py",
   "mimetype": "text/x-python",
   "name": "python",
   "nbconvert_exporter": "python",
   "pygments_lexer": "ipython3",
   "version": "3.6.6"
  }
 },
 "nbformat": 4,
 "nbformat_minor": 2
}
